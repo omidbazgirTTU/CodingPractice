{
 "cells": [
  {
   "cell_type": "code",
   "execution_count": 7,
   "metadata": {},
   "outputs": [],
   "source": [
    "# Dynamic programing through Hacker Rank"
   ]
  },
  {
   "cell_type": "raw",
   "metadata": {},
   "source": [
    "Given an array of integers, find the subset of non-adjacent elements with the maximum sum. Calculate the sum of that subset. For example, given an array, arr = [-2,1,3,-4,5] we have the following possible subsets: \n",
    "Subset      Sum\n",
    "[-2, 3, 5]   6\n",
    "[-2, 3]      1\n",
    "[-2, -4]    -6\n",
    "[-2, 5]      3\n",
    "[1, -4]     -3\n",
    "[1, 5]       6\n",
    "[3, 5]       8\n",
    "so the maximum subset is 8"
   ]
  },
  {
   "cell_type": "code",
   "execution_count": 8,
   "metadata": {},
   "outputs": [],
   "source": [
    "#!/bin/python3\n",
    "\n",
    "import math\n",
    "import os\n",
    "import random\n",
    "import re\n",
    "import sys\n",
    "\n",
    "# Complete the maxSubsetSum function below.\n",
    "def maxSubsetSum(arr):\n",
    "    Subsum = []\n",
    "    # Maxvalues for the first two positions must be calculated manually\n",
    "    Subsum.append(arr[0])\n",
    "    Subsum.append(max(arr[:2]))\n",
    "    # Iterating through the other values considering the fact that the max value can only be\n",
    "    # 1) Current element + max[-2] (max value of the two indexes back)\n",
    "    # 2) The current value\n",
    "    # 3) The last max value\n",
    "    # The first two cases, are the cases when we update the max value, and last case we return the curren max value\n",
    "    for a in arr[2:]:\n",
    "        Subsum.append(max([\n",
    "            Subsum[-2]+a, \n",
    "            a, \n",
    "            Subsum[-1]\n",
    "        ]))\n",
    "    return Subsum[-1]"
   ]
  },
  {
   "cell_type": "code",
   "execution_count": 9,
   "metadata": {},
   "outputs": [
    {
     "name": "stdout",
     "output_type": "stream",
     "text": [
      "8\n"
     ]
    }
   ],
   "source": [
    "arr = [-2,1,3,-4,5]\n",
    "print(maxSubsetSum(arr))"
   ]
  },
  {
   "cell_type": "code",
   "execution_count": null,
   "metadata": {},
   "outputs": [],
   "source": []
  }
 ],
 "metadata": {
  "kernelspec": {
   "display_name": "Python 3",
   "language": "python",
   "name": "python3"
  },
  "language_info": {
   "codemirror_mode": {
    "name": "ipython",
    "version": 3
   },
   "file_extension": ".py",
   "mimetype": "text/x-python",
   "name": "python",
   "nbconvert_exporter": "python",
   "pygments_lexer": "ipython3",
   "version": "3.7.3"
  }
 },
 "nbformat": 4,
 "nbformat_minor": 2
}
